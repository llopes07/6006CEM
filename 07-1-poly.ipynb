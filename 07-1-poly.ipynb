{
 "cells": [
  {
   "cell_type": "code",
   "execution_count": 1,
   "metadata": {},
   "outputs": [],
   "source": [
    "import pandas as pd\n",
    "import numpy as np"
   ]
  },
  {
   "cell_type": "code",
   "execution_count": 2,
   "metadata": {},
   "outputs": [
    {
     "name": "stdout",
     "output_type": "stream",
     "text": [
      "<class 'pandas.core.frame.DataFrame'>\n",
      "RangeIndex: 20 entries, 0 to 19\n",
      "Data columns (total 2 columns):\n",
      " #   Column   Non-Null Count  Dtype  \n",
      "---  ------   --------------  -----  \n",
      " 0   feature  20 non-null     float64\n",
      " 1   target   20 non-null     float64\n",
      "dtypes: float64(2)\n",
      "memory usage: 448.0 bytes\n"
     ]
    }
   ],
   "source": [
    "df = pd.read_csv('datasets/poly.csv')\n",
    "df.info()"
   ]
  },
  {
   "cell_type": "code",
   "execution_count": 3,
   "metadata": {},
   "outputs": [],
   "source": [
    "X = df.iloc[:, :-1].values\n",
    "y = df.iloc[:,  -1].values"
   ]
  },
  {
   "cell_type": "code",
   "execution_count": 4,
   "metadata": {},
   "outputs": [
    {
     "name": "stdout",
     "output_type": "stream",
     "text": [
      "Training accuracy: 0.639\n"
     ]
    }
   ],
   "source": [
    "from sklearn.linear_model import LinearRegression\n",
    "model = LinearRegression()\n",
    "model.fit(X, y)\n",
    "print('Training accuracy: {:.3f}'.format(model.score(X, y)))"
   ]
  },
  {
   "cell_type": "code",
   "execution_count": 5,
   "metadata": {},
   "outputs": [
    {
     "name": "stdout",
     "output_type": "stream",
     "text": [
      "Training accuracy: 0.983\n"
     ]
    }
   ],
   "source": [
    "from sklearn.preprocessing import PolynomialFeatures\n",
    "poly = PolynomialFeatures(degree=3)\n",
    "X_poly = poly.fit_transform(X)\n",
    "model = LinearRegression()\n",
    "model.fit(X_poly, y)\n",
    "print('Training accuracy: {:.3f}'.format(model.score(X_poly, y)))"
   ]
  },
  {
   "cell_type": "code",
   "execution_count": 8,
   "metadata": {},
   "outputs": [
    {
     "name": "stdout",
     "output_type": "stream",
     "text": [
      "Degree =  1 Training accuracy: 0.639\n",
      "Degree =  2 Training accuracy: 0.854\n",
      "Degree =  3 Training accuracy: 0.983\n",
      "Degree =  4 Training accuracy: 0.984\n",
      "Degree =  5 Training accuracy: 0.985\n",
      "Degree =  6 Training accuracy: 0.985\n",
      "Degree =  7 Training accuracy: 0.985\n",
      "Degree =  8 Training accuracy: 0.985\n",
      "Degree =  9 Training accuracy: 0.994\n",
      "Degree =  10 Training accuracy: 0.994\n"
     ]
    }
   ],
   "source": [
    "degrees = 10\n",
    "for d in range(degrees):\n",
    "    poly = PolynomialFeatures(degree=d+1)\n",
    "    X_poly = poly.fit_transform(X)\n",
    "    model = LinearRegression()\n",
    "    model.fit(X_poly, y)\n",
    "    print('Degree = ', d + 1, 'Training accuracy: {:.3f}'.format(model.score(X_poly, y)))"
   ]
  },
  {
   "cell_type": "code",
   "execution_count": 10,
   "metadata": {},
   "outputs": [
    {
     "name": "stdout",
     "output_type": "stream",
     "text": [
      "Degree =  1 Training accuracy: 0.639\n",
      "Degree =  2 Training accuracy: 0.854\n",
      "Degree =  3 Training accuracy: 0.983\n",
      "Degree =  4 Training accuracy: 0.984\n",
      "Degree =  5 Training accuracy: 0.985\n",
      "Degree =  6 Training accuracy: 0.985\n",
      "Degree =  7 Training accuracy: 0.985\n",
      "Degree =  8 Training accuracy: 0.985\n",
      "Degree =  9 Training accuracy: 0.994\n",
      "Degree =  10 Training accuracy: 0.994\n"
     ]
    }
   ],
   "source": [
    "degrees = 10\n",
    "from sklearn.pipeline import make_pipeline\n",
    "for d in range(degrees):\n",
    "    model = make_pipeline(PolynomialFeatures(degree=d+1), LinearRegression())\n",
    "    model.fit(X, y)\n",
    "    print('Degree = ', d + 1, 'Training accuracy: {:.3f}'.format(model.score(X, y)))"
   ]
  }
 ],
 "metadata": {
  "interpreter": {
   "hash": "aee8b7b246df8f9039afb4144a1f6fd8d2ca17a180786b69acc140d282b71a49"
  },
  "kernelspec": {
   "display_name": "Python 3.9.7 64-bit",
   "name": "python3"
  },
  "language_info": {
   "codemirror_mode": {
    "name": "ipython",
    "version": 3
   },
   "file_extension": ".py",
   "mimetype": "text/x-python",
   "name": "python",
   "nbconvert_exporter": "python",
   "pygments_lexer": "ipython3",
   "version": "3.9.7"
  },
  "orig_nbformat": 4
 },
 "nbformat": 4,
 "nbformat_minor": 2
}
